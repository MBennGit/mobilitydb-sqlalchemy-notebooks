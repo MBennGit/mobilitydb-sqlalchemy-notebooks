{
 "cells": [
  {
   "cell_type": "markdown",
   "id": "b194b6fa",
   "metadata": {},
   "source": [
    "### Inserting Temporal Data"
   ]
  },
  {
   "cell_type": "markdown",
   "id": "aaaf2a28",
   "metadata": {},
   "source": [
    "mobilitydb-sqlalchemy lets you use pandas DataFrame (which are great for timeseries data) while you are in the Python world, and translates it back and for to temporal types defined in mobilitydb.\n",
    "\n",
    "A point to note here is that we assume that the DataFrame’s columns are named “value” (except in case of TGeomPoint where it is “geometry”) and “t” for the data and the timestamp respectively.\n",
    "\n",
    "Here we show how we can store numeric data which changes over time (i.e. tfloat), using the `mobilitydb_sqlalchemy.types.TFloat.TFloat` class.\n",
    "\n",
    "Running the following code will create a new table with a tfloat column, and insert one row of hardcoded data into it."
   ]
  },
  {
   "cell_type": "code",
   "execution_count": 19,
   "id": "4204f046",
   "metadata": {},
   "outputs": [],
   "source": [
    "import datetime\n",
    "import pandas as pd\n",
    "\n",
    "from mobilitydb_sqlalchemy import TFloat\n",
    "from sqlalchemy import Column, Integer, create_engine\n",
    "from sqlalchemy.ext.declarative import declarative_base\n",
    "from sqlalchemy.orm import sessionmaker"
   ]
  },
  {
   "cell_type": "markdown",
   "id": "75fc16fc",
   "metadata": {},
   "source": [
    "**Setup the engine and session**, make sure you set the right url to connect to your mobilitydb instance."
   ]
  },
  {
   "cell_type": "code",
   "execution_count": 20,
   "id": "172fa8d6",
   "metadata": {},
   "outputs": [],
   "source": [
    "engine = create_engine(\"postgresql://docker:docker@db:5432/mobilitydb\", echo=True)\n",
    "session = sessionmaker(bind=engine)()"
   ]
  },
  {
   "cell_type": "markdown",
   "id": "175eba20",
   "metadata": {},
   "source": [
    "**Setup and create the tables** (only one in our case here)"
   ]
  },
  {
   "cell_type": "code",
   "execution_count": 21,
   "id": "a7d37aa2",
   "metadata": {},
   "outputs": [
    {
     "name": "stdout",
     "output_type": "stream",
     "text": [
      "2021-04-23 16:48:26,608 INFO sqlalchemy.engine.Engine select version()\n",
      "2021-04-23 16:48:26,609 INFO sqlalchemy.engine.Engine [raw sql] {}\n",
      "2021-04-23 16:48:26,618 INFO sqlalchemy.engine.Engine select current_schema()\n",
      "2021-04-23 16:48:26,619 INFO sqlalchemy.engine.Engine [raw sql] {}\n",
      "2021-04-23 16:48:26,624 INFO sqlalchemy.engine.Engine show standard_conforming_strings\n",
      "2021-04-23 16:48:26,626 INFO sqlalchemy.engine.Engine [raw sql] {}\n",
      "2021-04-23 16:48:26,634 INFO sqlalchemy.engine.Engine BEGIN (implicit)\n",
      "2021-04-23 16:48:26,637 INFO sqlalchemy.engine.Engine select relname from pg_class c join pg_namespace n on n.oid=c.relnamespace where pg_catalog.pg_table_is_visible(c.oid) and relname=%(name)s\n",
      "2021-04-23 16:48:26,638 INFO sqlalchemy.engine.Engine [generated in 0.00156s] {'name': 'tfloat_test_002'}\n",
      "2021-04-23 16:48:26,645 INFO sqlalchemy.engine.Engine COMMIT\n"
     ]
    }
   ],
   "source": [
    "Base = declarative_base()\n",
    "\n",
    "class TemporalFloats(Base):\n",
    "    __tablename__ = \"tfloat_test_002\"\n",
    "    tid = Column(Integer, primary_key=True)\n",
    "    tdata = Column(TFloat(True, False))\n",
    "\n",
    "Base.metadata.create_all(engine)"
   ]
  },
  {
   "cell_type": "markdown",
   "id": "560ba54a",
   "metadata": {},
   "source": [
    "**Prepare the data**"
   ]
  },
  {
   "cell_type": "code",
   "execution_count": 22,
   "id": "926c58c2",
   "metadata": {},
   "outputs": [
    {
     "data": {
      "text/html": [
       "<div>\n",
       "<style scoped>\n",
       "    .dataframe tbody tr th:only-of-type {\n",
       "        vertical-align: middle;\n",
       "    }\n",
       "\n",
       "    .dataframe tbody tr th {\n",
       "        vertical-align: top;\n",
       "    }\n",
       "\n",
       "    .dataframe thead th {\n",
       "        text-align: right;\n",
       "    }\n",
       "</style>\n",
       "<table border=\"1\" class=\"dataframe\">\n",
       "  <thead>\n",
       "    <tr style=\"text-align: right;\">\n",
       "      <th></th>\n",
       "      <th>value</th>\n",
       "    </tr>\n",
       "    <tr>\n",
       "      <th>t</th>\n",
       "      <th></th>\n",
       "    </tr>\n",
       "  </thead>\n",
       "  <tbody>\n",
       "    <tr>\n",
       "      <th>2018-01-01 12:00:00</th>\n",
       "      <td>0.0</td>\n",
       "    </tr>\n",
       "    <tr>\n",
       "      <th>2018-01-01 12:06:00</th>\n",
       "      <td>8.2</td>\n",
       "    </tr>\n",
       "    <tr>\n",
       "      <th>2018-01-01 12:10:00</th>\n",
       "      <td>6.6</td>\n",
       "    </tr>\n",
       "    <tr>\n",
       "      <th>2018-01-01 12:15:00</th>\n",
       "      <td>9.1</td>\n",
       "    </tr>\n",
       "  </tbody>\n",
       "</table>\n",
       "</div>"
      ],
      "text/plain": [
       "                     value\n",
       "t                         \n",
       "2018-01-01 12:00:00    0.0\n",
       "2018-01-01 12:06:00    8.2\n",
       "2018-01-01 12:10:00    6.6\n",
       "2018-01-01 12:15:00    9.1"
      ]
     },
     "execution_count": 22,
     "metadata": {},
     "output_type": "execute_result"
    }
   ],
   "source": [
    "df = pd.DataFrame(\n",
    "    [\n",
    "        {\"value\": 0, \"t\": datetime.datetime(2018, 1, 1, 12, 0, 0)},\n",
    "        {\"value\": 8.2, \"t\": datetime.datetime(2018, 1, 1, 12, 6, 0)},\n",
    "        {\"value\": 6.6, \"t\": datetime.datetime(2018, 1, 1, 12, 10, 0)},\n",
    "        {\"value\": 9.1, \"t\": datetime.datetime(2018, 1, 1, 12, 15, 0)},\n",
    "    ]\n",
    ").set_index(\"t\")\n",
    "df.head()"
   ]
  },
  {
   "cell_type": "markdown",
   "id": "234e485a",
   "metadata": {},
   "source": [
    "**Insert the Data**"
   ]
  },
  {
   "cell_type": "code",
   "execution_count": 23,
   "id": "1fb92bc5",
   "metadata": {},
   "outputs": [
    {
     "name": "stdout",
     "output_type": "stream",
     "text": [
      "2021-04-23 16:48:30,360 INFO sqlalchemy.engine.Engine BEGIN (implicit)\n",
      "2021-04-23 16:48:30,367 INFO sqlalchemy.engine.Engine INSERT INTO tfloat_test_002 (tdata) VALUES (%(tdata)s) RETURNING tfloat_test_002.tid\n",
      "2021-04-23 16:48:30,368 INFO sqlalchemy.engine.Engine [generated in 0.00435s] {'tdata': '[0@2018-01-01T12:00:00+0000, 8.2@2018-01-01T12:06:00+0000, 6.6@2018-01-01T12:10:00+0000, 9.1@2018-01-01T12:15:00+0000)'}\n",
      "2021-04-23 16:48:30,380 INFO sqlalchemy.engine.Engine COMMIT\n"
     ]
    }
   ],
   "source": [
    "row = TemporalFloats(tdata=df,)\n",
    "session.add(row)\n",
    "session.commit()"
   ]
  }
 ],
 "metadata": {
  "kernelspec": {
   "display_name": "Python 3",
   "language": "python",
   "name": "python3"
  },
  "language_info": {
   "codemirror_mode": {
    "name": "ipython",
    "version": 3
   },
   "file_extension": ".py",
   "mimetype": "text/x-python",
   "name": "python",
   "nbconvert_exporter": "python",
   "pygments_lexer": "ipython3",
   "version": "3.8.8"
  }
 },
 "nbformat": 4,
 "nbformat_minor": 5
}
