{
 "cells": [
  {
   "cell_type": "markdown",
   "id": "60bf842b",
   "metadata": {},
   "source": [
    "### Reading TGeomPoint data\n",
    "with movingpandas"
   ]
  },
  {
   "cell_type": "code",
   "execution_count": 22,
   "id": "dafc0073",
   "metadata": {},
   "outputs": [],
   "source": [
    "import datetime\n",
    "\n",
    "from sqlalchemy import func\n",
    "from sqlalchemy import Column, Integer, create_engine\n",
    "from sqlalchemy.ext.declarative import declarative_base\n",
    "from sqlalchemy.orm import sessionmaker\n",
    "from mobilitydb_sqlalchemy import TGeomPoint\n",
    "\n",
    "from shapely.geometry import Point"
   ]
  },
  {
   "cell_type": "code",
   "execution_count": 5,
   "id": "25c2805f",
   "metadata": {
    "scrolled": false
   },
   "outputs": [],
   "source": [
    "engine = create_engine(\"postgresql://docker:docker@db:5432/mobilitydb\", echo=True)\n",
    "session = sessionmaker(bind=engine)()"
   ]
  },
  {
   "cell_type": "code",
   "execution_count": 8,
   "id": "4d4f9a62",
   "metadata": {},
   "outputs": [
    {
     "name": "stdout",
     "output_type": "stream",
     "text": [
      "2021-04-23 15:47:14,764 INFO sqlalchemy.engine.Engine select version()\n",
      "2021-04-23 15:47:14,765 INFO sqlalchemy.engine.Engine [raw sql] {}\n",
      "2021-04-23 15:47:14,768 INFO sqlalchemy.engine.Engine select current_schema()\n",
      "2021-04-23 15:47:14,769 INFO sqlalchemy.engine.Engine [raw sql] {}\n",
      "2021-04-23 15:47:14,770 INFO sqlalchemy.engine.Engine show standard_conforming_strings\n",
      "2021-04-23 15:47:14,771 INFO sqlalchemy.engine.Engine [raw sql] {}\n",
      "2021-04-23 15:47:14,774 INFO sqlalchemy.engine.Engine BEGIN (implicit)\n",
      "2021-04-23 15:47:14,775 INFO sqlalchemy.engine.Engine select relname from pg_class c join pg_namespace n on n.oid=c.relnamespace where pg_catalog.pg_table_is_visible(c.oid) and relname=%(name)s\n",
      "2021-04-23 15:47:14,777 INFO sqlalchemy.engine.Engine [generated in 0.00171s] {'name': 'trips_test_002'}\n",
      "2021-04-23 15:47:14,780 INFO sqlalchemy.engine.Engine COMMIT\n"
     ]
    }
   ],
   "source": [
    "Base = declarative_base()\n",
    "\n",
    "class Trips(Base):\n",
    "    __tablename__ = \"trips_test_002\"\n",
    "    car_id = Column(Integer, primary_key=True)\n",
    "    trip_id = Column(Integer, primary_key=True)\n",
    "    trip = Column(TGeomPoint(use_movingpandas=True))\n",
    "    \n",
    "Base.metadata.create_all(engine)"
   ]
  },
  {
   "cell_type": "markdown",
   "id": "d0186a87",
   "metadata": {},
   "source": [
    "#### Value at a given timestamp"
   ]
  },
  {
   "cell_type": "markdown",
   "id": "2fffbf55",
   "metadata": {},
   "source": [
    "SQL query:\n",
    "``` \n",
    "SELECT CarId,\n",
    "       ST_AsText(valueAtTimestamp(Trip, timestamptz '2012-01-01 08:10:00'))\n",
    "FROM Trips;\n",
    "```"
   ]
  },
  {
   "cell_type": "code",
   "execution_count": 17,
   "id": "8c87fcbe",
   "metadata": {},
   "outputs": [
    {
     "data": {
      "text/plain": [
       "MetaData()"
      ]
     },
     "execution_count": 17,
     "metadata": {},
     "output_type": "execute_result"
    }
   ],
   "source": [
    "Trips.metadata"
   ]
  },
  {
   "cell_type": "code",
   "execution_count": 19,
   "id": "acc60490",
   "metadata": {},
   "outputs": [
    {
     "name": "stdout",
     "output_type": "stream",
     "text": [
      "2021-04-23 15:54:17,972 INFO sqlalchemy.engine.Engine SELECT trips_test_002.car_id AS trips_test_002_car_id, asText(valueAtTimestamp(trips_test_002.trip, %(valueAtTimestamp_1)s)) AS \"asText_1\" \n",
      "FROM trips_test_002\n",
      "2021-04-23 15:54:17,974 INFO sqlalchemy.engine.Engine [cached since 373.1s ago] {'valueAtTimestamp_1': datetime.datetime(2012, 1, 1, 8, 10)}\n"
     ]
    },
    {
     "data": {
      "text/plain": [
       "[(1, 'POINT(2 0)')]"
      ]
     },
     "execution_count": 19,
     "metadata": {},
     "output_type": "execute_result"
    }
   ],
   "source": [
    "session.query(\n",
    "    Trips.car_id,\n",
    "    func.asText(\n",
    "        func.valueAtTimestamp(Trips.trip, datetime.datetime(2012, 1, 1, 8, 10, 0))\n",
    "    ),\n",
    ").all()"
   ]
  },
  {
   "cell_type": "markdown",
   "id": "0e80bf92",
   "metadata": {},
   "source": [
    "#### Restriction to a given value"
   ]
  },
  {
   "cell_type": "markdown",
   "id": "224a62ed",
   "metadata": {},
   "source": [
    "SQL query:\n",
    "``` \n",
    "SELECT CarId, \n",
    "       asText(atValue(Trip, 'Point(2 0)'))\n",
    "FROM Trips;\n",
    "```"
   ]
  },
  {
   "cell_type": "code",
   "execution_count": 23,
   "id": "42385549",
   "metadata": {},
   "outputs": [
    {
     "name": "stdout",
     "output_type": "stream",
     "text": [
      "2021-04-23 15:55:46,836 INFO sqlalchemy.engine.Engine SELECT trips_test_002.car_id AS trips_test_002_car_id, asText(atValue(trips_test_002.trip, %(atValue_1)s)) AS \"asText_1\" \n",
      "FROM trips_test_002\n",
      "2021-04-23 15:55:46,837 INFO sqlalchemy.engine.Engine [generated in 0.00163s] {'atValue_1': 'POINT (2 0)'}\n"
     ]
    },
    {
     "data": {
      "text/plain": [
       "[(1, '{[POINT(2 0)@2012-01-01 08:10:00+00]}')]"
      ]
     },
     "execution_count": 23,
     "metadata": {},
     "output_type": "execute_result"
    }
   ],
   "source": [
    "session.query(\n",
    "    Trips.car_id,\n",
    "    func.asText(func.atValue(Trips.trip, Point(2, 0).wkt)),\n",
    ").all()"
   ]
  },
  {
   "cell_type": "markdown",
   "id": "025e33e1",
   "metadata": {},
   "source": [
    "#### Restriction to a period"
   ]
  },
  {
   "cell_type": "markdown",
   "id": "3108e04a",
   "metadata": {},
   "source": [
    "SQL query:\n",
    "``` \n",
    "SELECT CarId, \n",
    "       asText(atPeriod(Trip, '[2012-01-01 08:05:00,2012-01-01 08:10:00]'))\n",
    "FROM Trips;\n",
    "```"
   ]
  },
  {
   "cell_type": "code",
   "execution_count": 24,
   "id": "9e554981",
   "metadata": {},
   "outputs": [
    {
     "name": "stdout",
     "output_type": "stream",
     "text": [
      "2021-04-23 15:56:18,461 INFO sqlalchemy.engine.Engine SELECT trips_test_002.car_id AS trips_test_002_car_id, asText(atPeriod(trips_test_002.trip, %(atPeriod_1)s)) AS \"asText_1\" \n",
      "FROM trips_test_002\n",
      "2021-04-23 15:56:18,462 INFO sqlalchemy.engine.Engine [generated in 0.00174s] {'atPeriod_1': '[2012-01-01 08:05:00,2012-01-01 08:10:00]'}\n"
     ]
    },
    {
     "data": {
      "text/plain": [
       "[(1, '[POINT(1 0)@2012-01-01 08:05:00+00, POINT(2 0)@2012-01-01 08:10:00+00]')]"
      ]
     },
     "execution_count": 24,
     "metadata": {},
     "output_type": "execute_result"
    }
   ],
   "source": [
    "session.query(\n",
    "    Trips.car_id,\n",
    "    func.asText(\n",
    "        func.atPeriod(Trips.trip, \"[2012-01-01 08:05:00,2012-01-01 08:10:00]\")\n",
    "    ),\n",
    ").all()"
   ]
  },
  {
   "cell_type": "markdown",
   "id": "bebb85e2",
   "metadata": {},
   "source": [
    "#### Temporal distance"
   ]
  },
  {
   "cell_type": "markdown",
   "id": "3359c3bc",
   "metadata": {},
   "source": [
    "SQL query:\n",
    "``` \n",
    "SELECT T1.CarId, \n",
    "       T2.CarId, \n",
    "       T1.Trip <-> T2.Trip\n",
    "FROM Trips T1, \n",
    "     Trips T2\n",
    "WHERE T1.CarId < T2.CarId;\n",
    "```"
   ]
  },
  {
   "cell_type": "code",
   "execution_count": 25,
   "id": "9698e449",
   "metadata": {},
   "outputs": [
    {
     "ename": "SyntaxError",
     "evalue": "invalid syntax (<ipython-input-25-74ec803d62fb>, line 7)",
     "output_type": "error",
     "traceback": [
      "\u001b[0;36m  File \u001b[0;32m\"<ipython-input-25-74ec803d62fb>\"\u001b[0;36m, line \u001b[0;32m7\u001b[0m\n\u001b[0;31m    .all()\u001b[0m\n\u001b[0m    ^\u001b[0m\n\u001b[0;31mSyntaxError\u001b[0m\u001b[0;31m:\u001b[0m invalid syntax\n"
     ]
    }
   ],
   "source": [
    "session.query(\n",
    "    T1.c.car_id,\n",
    "    T2.c.car_id,\n",
    "    T1.c.trip.distance(T2.c.trip),\n",
    ") \\\n",
    ".filter(T1.c.car_id < T2.c.car_id,)\n",
    ".all()"
   ]
  }
 ],
 "metadata": {
  "kernelspec": {
   "display_name": "Python 3",
   "language": "python",
   "name": "python3"
  },
  "language_info": {
   "codemirror_mode": {
    "name": "ipython",
    "version": 3
   },
   "file_extension": ".py",
   "mimetype": "text/x-python",
   "name": "python",
   "nbconvert_exporter": "python",
   "pygments_lexer": "ipython3",
   "version": "3.8.8"
  }
 },
 "nbformat": 4,
 "nbformat_minor": 5
}
